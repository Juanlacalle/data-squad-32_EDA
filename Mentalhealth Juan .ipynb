{
 "cells": [
  {
   "cell_type": "code",
   "execution_count": 5,
   "metadata": {},
   "outputs": [],
   "source": [
    "import numpy as np\n",
    "import pandas as pd\n",
    "import numpy as np\n",
    "import matplotlib.pyplot as plt"
   ]
  },
  {
   "cell_type": "code",
   "execution_count": 6,
   "metadata": {},
   "outputs": [
    {
     "data": {
      "text/plain": [
       "1259"
      ]
     },
     "execution_count": 6,
     "metadata": {},
     "output_type": "execute_result"
    }
   ],
   "source": [
    "ds=pd.read_csv('survey.csv')\n",
    "\n",
    "len(ds)"
   ]
  },
  {
   "cell_type": "code",
   "execution_count": 63,
   "metadata": {},
   "outputs": [
    {
     "data": {
      "text/html": [
       "<div>\n",
       "<style scoped>\n",
       "    .dataframe tbody tr th:only-of-type {\n",
       "        vertical-align: middle;\n",
       "    }\n",
       "\n",
       "    .dataframe tbody tr th {\n",
       "        vertical-align: top;\n",
       "    }\n",
       "\n",
       "    .dataframe thead th {\n",
       "        text-align: right;\n",
       "    }\n",
       "</style>\n",
       "<table border=\"1\" class=\"dataframe\">\n",
       "  <thead>\n",
       "    <tr style=\"text-align: right;\">\n",
       "      <th></th>\n",
       "      <th>Timestamp</th>\n",
       "      <th>Age</th>\n",
       "      <th>Gender</th>\n",
       "      <th>Country</th>\n",
       "      <th>state</th>\n",
       "      <th>self_employed</th>\n",
       "      <th>family_history</th>\n",
       "      <th>treatment</th>\n",
       "      <th>work_interfere</th>\n",
       "      <th>no_employees</th>\n",
       "      <th>...</th>\n",
       "      <th>leave</th>\n",
       "      <th>mental_health_consequence</th>\n",
       "      <th>phys_health_consequence</th>\n",
       "      <th>coworkers</th>\n",
       "      <th>supervisor</th>\n",
       "      <th>mental_health_interview</th>\n",
       "      <th>phys_health_interview</th>\n",
       "      <th>mental_vs_physical</th>\n",
       "      <th>obs_consequence</th>\n",
       "      <th>comments</th>\n",
       "    </tr>\n",
       "  </thead>\n",
       "  <tbody>\n",
       "    <tr>\n",
       "      <th>7</th>\n",
       "      <td>2014-08-27 11:32:05</td>\n",
       "      <td>39</td>\n",
       "      <td>M</td>\n",
       "      <td>Canada</td>\n",
       "      <td>NaN</td>\n",
       "      <td>NaN</td>\n",
       "      <td>No</td>\n",
       "      <td>No</td>\n",
       "      <td>Never</td>\n",
       "      <td>1-5</td>\n",
       "      <td>...</td>\n",
       "      <td>Don't know</td>\n",
       "      <td>No</td>\n",
       "      <td>No</td>\n",
       "      <td>No</td>\n",
       "      <td>No</td>\n",
       "      <td>No</td>\n",
       "      <td>No</td>\n",
       "      <td>No</td>\n",
       "      <td>No</td>\n",
       "      <td>NaN</td>\n",
       "    </tr>\n",
       "    <tr>\n",
       "      <th>28</th>\n",
       "      <td>2014-08-27 11:38:12</td>\n",
       "      <td>34</td>\n",
       "      <td>male</td>\n",
       "      <td>United States</td>\n",
       "      <td>OH</td>\n",
       "      <td>No</td>\n",
       "      <td>No</td>\n",
       "      <td>Yes</td>\n",
       "      <td>Sometimes</td>\n",
       "      <td>26-100</td>\n",
       "      <td>...</td>\n",
       "      <td>Somewhat difficult</td>\n",
       "      <td>No</td>\n",
       "      <td>No</td>\n",
       "      <td>Some of them</td>\n",
       "      <td>No</td>\n",
       "      <td>No</td>\n",
       "      <td>No</td>\n",
       "      <td>No</td>\n",
       "      <td>No</td>\n",
       "      <td>NaN</td>\n",
       "    </tr>\n",
       "    <tr>\n",
       "      <th>82</th>\n",
       "      <td>2014-08-27 12:02:52</td>\n",
       "      <td>30</td>\n",
       "      <td>male</td>\n",
       "      <td>Canada</td>\n",
       "      <td>NaN</td>\n",
       "      <td>No</td>\n",
       "      <td>No</td>\n",
       "      <td>No</td>\n",
       "      <td>Never</td>\n",
       "      <td>26-100</td>\n",
       "      <td>...</td>\n",
       "      <td>Don't know</td>\n",
       "      <td>No</td>\n",
       "      <td>No</td>\n",
       "      <td>Some of them</td>\n",
       "      <td>Yes</td>\n",
       "      <td>No</td>\n",
       "      <td>No</td>\n",
       "      <td>No</td>\n",
       "      <td>No</td>\n",
       "      <td>NaN</td>\n",
       "    </tr>\n",
       "    <tr>\n",
       "      <th>174</th>\n",
       "      <td>2014-08-27 12:49:30</td>\n",
       "      <td>34</td>\n",
       "      <td>Female</td>\n",
       "      <td>Canada</td>\n",
       "      <td>NaN</td>\n",
       "      <td>No</td>\n",
       "      <td>Yes</td>\n",
       "      <td>Yes</td>\n",
       "      <td>Sometimes</td>\n",
       "      <td>More than 1000</td>\n",
       "      <td>...</td>\n",
       "      <td>Somewhat easy</td>\n",
       "      <td>No</td>\n",
       "      <td>No</td>\n",
       "      <td>Some of them</td>\n",
       "      <td>Yes</td>\n",
       "      <td>No</td>\n",
       "      <td>No</td>\n",
       "      <td>No</td>\n",
       "      <td>No</td>\n",
       "      <td>NaN</td>\n",
       "    </tr>\n",
       "    <tr>\n",
       "      <th>340</th>\n",
       "      <td>2014-08-27 14:38:54</td>\n",
       "      <td>35</td>\n",
       "      <td>Male</td>\n",
       "      <td>United States</td>\n",
       "      <td>MI</td>\n",
       "      <td>No</td>\n",
       "      <td>No</td>\n",
       "      <td>No</td>\n",
       "      <td>NaN</td>\n",
       "      <td>26-100</td>\n",
       "      <td>...</td>\n",
       "      <td>Don't know</td>\n",
       "      <td>No</td>\n",
       "      <td>No</td>\n",
       "      <td>Yes</td>\n",
       "      <td>Yes</td>\n",
       "      <td>No</td>\n",
       "      <td>No</td>\n",
       "      <td>No</td>\n",
       "      <td>No</td>\n",
       "      <td>NaN</td>\n",
       "    </tr>\n",
       "    <tr>\n",
       "      <th>354</th>\n",
       "      <td>2014-08-27 14:52:53</td>\n",
       "      <td>25</td>\n",
       "      <td>Female</td>\n",
       "      <td>Sweden</td>\n",
       "      <td>NaN</td>\n",
       "      <td>No</td>\n",
       "      <td>Yes</td>\n",
       "      <td>No</td>\n",
       "      <td>Sometimes</td>\n",
       "      <td>6-25</td>\n",
       "      <td>...</td>\n",
       "      <td>Somewhat easy</td>\n",
       "      <td>No</td>\n",
       "      <td>No</td>\n",
       "      <td>Some of them</td>\n",
       "      <td>Yes</td>\n",
       "      <td>No</td>\n",
       "      <td>No</td>\n",
       "      <td>No</td>\n",
       "      <td>No</td>\n",
       "      <td>NaN</td>\n",
       "    </tr>\n",
       "    <tr>\n",
       "      <th>355</th>\n",
       "      <td>2014-08-27 14:53:11</td>\n",
       "      <td>31</td>\n",
       "      <td>Male</td>\n",
       "      <td>United States</td>\n",
       "      <td>CA</td>\n",
       "      <td>No</td>\n",
       "      <td>No</td>\n",
       "      <td>Yes</td>\n",
       "      <td>Sometimes</td>\n",
       "      <td>500-1000</td>\n",
       "      <td>...</td>\n",
       "      <td>Don't know</td>\n",
       "      <td>No</td>\n",
       "      <td>No</td>\n",
       "      <td>Some of them</td>\n",
       "      <td>No</td>\n",
       "      <td>No</td>\n",
       "      <td>No</td>\n",
       "      <td>No</td>\n",
       "      <td>No</td>\n",
       "      <td>NaN</td>\n",
       "    </tr>\n",
       "    <tr>\n",
       "      <th>564</th>\n",
       "      <td>2014-08-27 19:34:26</td>\n",
       "      <td>40</td>\n",
       "      <td>Male</td>\n",
       "      <td>Canada</td>\n",
       "      <td>NaN</td>\n",
       "      <td>No</td>\n",
       "      <td>No</td>\n",
       "      <td>No</td>\n",
       "      <td>Never</td>\n",
       "      <td>26-100</td>\n",
       "      <td>...</td>\n",
       "      <td>Somewhat difficult</td>\n",
       "      <td>No</td>\n",
       "      <td>No</td>\n",
       "      <td>Some of them</td>\n",
       "      <td>Some of them</td>\n",
       "      <td>No</td>\n",
       "      <td>No</td>\n",
       "      <td>No</td>\n",
       "      <td>No</td>\n",
       "      <td>NaN</td>\n",
       "    </tr>\n",
       "    <tr>\n",
       "      <th>627</th>\n",
       "      <td>2014-08-28 02:17:42</td>\n",
       "      <td>34</td>\n",
       "      <td>male</td>\n",
       "      <td>United States</td>\n",
       "      <td>CA</td>\n",
       "      <td>Yes</td>\n",
       "      <td>Yes</td>\n",
       "      <td>Yes</td>\n",
       "      <td>Sometimes</td>\n",
       "      <td>6-25</td>\n",
       "      <td>...</td>\n",
       "      <td>Somewhat easy</td>\n",
       "      <td>No</td>\n",
       "      <td>No</td>\n",
       "      <td>Some of them</td>\n",
       "      <td>Some of them</td>\n",
       "      <td>No</td>\n",
       "      <td>No</td>\n",
       "      <td>No</td>\n",
       "      <td>No</td>\n",
       "      <td>thanks for what you're doing. FYI these questi...</td>\n",
       "    </tr>\n",
       "    <tr>\n",
       "      <th>728</th>\n",
       "      <td>2014-08-28 10:24:19</td>\n",
       "      <td>29</td>\n",
       "      <td>Male</td>\n",
       "      <td>United States</td>\n",
       "      <td>MN</td>\n",
       "      <td>No</td>\n",
       "      <td>No</td>\n",
       "      <td>No</td>\n",
       "      <td>NaN</td>\n",
       "      <td>More than 1000</td>\n",
       "      <td>...</td>\n",
       "      <td>Don't know</td>\n",
       "      <td>No</td>\n",
       "      <td>No</td>\n",
       "      <td>Yes</td>\n",
       "      <td>Yes</td>\n",
       "      <td>No</td>\n",
       "      <td>No</td>\n",
       "      <td>No</td>\n",
       "      <td>No</td>\n",
       "      <td>NaN</td>\n",
       "    </tr>\n",
       "    <tr>\n",
       "      <th>839</th>\n",
       "      <td>2014-08-28 16:52:23</td>\n",
       "      <td>36</td>\n",
       "      <td>M</td>\n",
       "      <td>United States</td>\n",
       "      <td>PA</td>\n",
       "      <td>No</td>\n",
       "      <td>No</td>\n",
       "      <td>No</td>\n",
       "      <td>Rarely</td>\n",
       "      <td>More than 1000</td>\n",
       "      <td>...</td>\n",
       "      <td>Somewhat difficult</td>\n",
       "      <td>No</td>\n",
       "      <td>No</td>\n",
       "      <td>Some of them</td>\n",
       "      <td>Yes</td>\n",
       "      <td>No</td>\n",
       "      <td>No</td>\n",
       "      <td>No</td>\n",
       "      <td>No</td>\n",
       "      <td>NaN</td>\n",
       "    </tr>\n",
       "  </tbody>\n",
       "</table>\n",
       "<p>11 rows × 27 columns</p>\n",
       "</div>"
      ],
      "text/plain": [
       "               Timestamp  Age  Gender        Country state self_employed  \\\n",
       "7    2014-08-27 11:32:05   39       M         Canada   NaN           NaN   \n",
       "28   2014-08-27 11:38:12   34    male  United States    OH            No   \n",
       "82   2014-08-27 12:02:52   30    male         Canada   NaN            No   \n",
       "174  2014-08-27 12:49:30   34  Female         Canada   NaN            No   \n",
       "340  2014-08-27 14:38:54   35    Male  United States    MI            No   \n",
       "354  2014-08-27 14:52:53   25  Female         Sweden   NaN            No   \n",
       "355  2014-08-27 14:53:11   31    Male  United States    CA            No   \n",
       "564  2014-08-27 19:34:26   40    Male         Canada   NaN            No   \n",
       "627  2014-08-28 02:17:42   34    male  United States    CA           Yes   \n",
       "728  2014-08-28 10:24:19   29    Male  United States    MN            No   \n",
       "839  2014-08-28 16:52:23   36       M  United States    PA            No   \n",
       "\n",
       "    family_history treatment work_interfere    no_employees  ...  \\\n",
       "7               No        No          Never             1-5  ...   \n",
       "28              No       Yes      Sometimes          26-100  ...   \n",
       "82              No        No          Never          26-100  ...   \n",
       "174            Yes       Yes      Sometimes  More than 1000  ...   \n",
       "340             No        No            NaN          26-100  ...   \n",
       "354            Yes        No      Sometimes            6-25  ...   \n",
       "355             No       Yes      Sometimes        500-1000  ...   \n",
       "564             No        No          Never          26-100  ...   \n",
       "627            Yes       Yes      Sometimes            6-25  ...   \n",
       "728             No        No            NaN  More than 1000  ...   \n",
       "839             No        No         Rarely  More than 1000  ...   \n",
       "\n",
       "                  leave mental_health_consequence phys_health_consequence  \\\n",
       "7            Don't know                        No                      No   \n",
       "28   Somewhat difficult                        No                      No   \n",
       "82           Don't know                        No                      No   \n",
       "174       Somewhat easy                        No                      No   \n",
       "340          Don't know                        No                      No   \n",
       "354       Somewhat easy                        No                      No   \n",
       "355          Don't know                        No                      No   \n",
       "564  Somewhat difficult                        No                      No   \n",
       "627       Somewhat easy                        No                      No   \n",
       "728          Don't know                        No                      No   \n",
       "839  Somewhat difficult                        No                      No   \n",
       "\n",
       "        coworkers    supervisor mental_health_interview phys_health_interview  \\\n",
       "7              No            No                      No                    No   \n",
       "28   Some of them            No                      No                    No   \n",
       "82   Some of them           Yes                      No                    No   \n",
       "174  Some of them           Yes                      No                    No   \n",
       "340           Yes           Yes                      No                    No   \n",
       "354  Some of them           Yes                      No                    No   \n",
       "355  Some of them            No                      No                    No   \n",
       "564  Some of them  Some of them                      No                    No   \n",
       "627  Some of them  Some of them                      No                    No   \n",
       "728           Yes           Yes                      No                    No   \n",
       "839  Some of them           Yes                      No                    No   \n",
       "\n",
       "    mental_vs_physical obs_consequence  \\\n",
       "7                   No              No   \n",
       "28                  No              No   \n",
       "82                  No              No   \n",
       "174                 No              No   \n",
       "340                 No              No   \n",
       "354                 No              No   \n",
       "355                 No              No   \n",
       "564                 No              No   \n",
       "627                 No              No   \n",
       "728                 No              No   \n",
       "839                 No              No   \n",
       "\n",
       "                                              comments  \n",
       "7                                                  NaN  \n",
       "28                                                 NaN  \n",
       "82                                                 NaN  \n",
       "174                                                NaN  \n",
       "340                                                NaN  \n",
       "354                                                NaN  \n",
       "355                                                NaN  \n",
       "564                                                NaN  \n",
       "627  thanks for what you're doing. FYI these questi...  \n",
       "728                                                NaN  \n",
       "839                                                NaN  \n",
       "\n",
       "[11 rows x 27 columns]"
      ]
     },
     "execution_count": 63,
     "metadata": {},
     "output_type": "execute_result"
    }
   ],
   "source": [
    "#The workers who are not scary for say the True, It is filter by obs_consequence, mental_vs_physical,phys_health_interview\n",
    "ds1=ds[ds['obs_consequence']=='No']\n",
    "\n",
    "ds2=ds1[ds1['mental_vs_physical']=='No']\n",
    "ds3=ds2[ds2['phys_health_interview']=='No']\n",
    "ds4=ds3[ds3['phys_health_consequence']=='No']\n",
    "ds5=ds4[ds4['mental_health_consequence']=='No']\n",
    "ds5"
   ]
  },
  {
   "cell_type": "code",
   "execution_count": 54,
   "metadata": {},
   "outputs": [],
   "source": [
    "# we can see almost the only countries that give security for show mental health are Canada and USA\n",
    "# and the age is between 30-40 years aprox"
   ]
  },
  {
   "cell_type": "code",
   "execution_count": 86,
   "metadata": {},
   "outputs": [
    {
     "data": {
      "text/plain": [
       "81.82"
      ]
     },
     "execution_count": 86,
     "metadata": {},
     "output_type": "execute_result"
    }
   ],
   "source": [
    "# In this case we can see wellness_program and benefits are related because the people is not scary to say the true\n",
    "ds5[['benefits','wellness_program']]\n",
    "beneds5= ds5[ds5['benefits']==ds5['wellness_program']]\n",
    "round(len(beneds5)/len(ds5)*100,2)\n"
   ]
  },
  {
   "cell_type": "code",
   "execution_count": 78,
   "metadata": {},
   "outputs": [
    {
     "data": {
      "text/html": [
       "<div>\n",
       "<style scoped>\n",
       "    .dataframe tbody tr th:only-of-type {\n",
       "        vertical-align: middle;\n",
       "    }\n",
       "\n",
       "    .dataframe tbody tr th {\n",
       "        vertical-align: top;\n",
       "    }\n",
       "\n",
       "    .dataframe thead th {\n",
       "        text-align: right;\n",
       "    }\n",
       "</style>\n",
       "<table border=\"1\" class=\"dataframe\">\n",
       "  <thead>\n",
       "    <tr style=\"text-align: right;\">\n",
       "      <th></th>\n",
       "      <th>benefits</th>\n",
       "      <th>wellness_program</th>\n",
       "    </tr>\n",
       "  </thead>\n",
       "  <tbody>\n",
       "    <tr>\n",
       "      <th>0</th>\n",
       "      <td>Yes</td>\n",
       "      <td>No</td>\n",
       "    </tr>\n",
       "    <tr>\n",
       "      <th>1</th>\n",
       "      <td>Don't know</td>\n",
       "      <td>Don't know</td>\n",
       "    </tr>\n",
       "    <tr>\n",
       "      <th>2</th>\n",
       "      <td>No</td>\n",
       "      <td>No</td>\n",
       "    </tr>\n",
       "    <tr>\n",
       "      <th>3</th>\n",
       "      <td>No</td>\n",
       "      <td>No</td>\n",
       "    </tr>\n",
       "    <tr>\n",
       "      <th>4</th>\n",
       "      <td>Yes</td>\n",
       "      <td>Don't know</td>\n",
       "    </tr>\n",
       "  </tbody>\n",
       "</table>\n",
       "</div>"
      ],
      "text/plain": [
       "     benefits wellness_program\n",
       "0         Yes               No\n",
       "1  Don't know       Don't know\n",
       "2          No               No\n",
       "3          No               No\n",
       "4         Yes       Don't know"
      ]
     },
     "execution_count": 78,
     "metadata": {},
     "output_type": "execute_result"
    }
   ],
   "source": [
    "# but in all the poplation there is not the same relation\n",
    "ds[['benefits','wellness_program']].head()\n"
   ]
  },
  {
   "cell_type": "code",
   "execution_count": 82,
   "metadata": {},
   "outputs": [
    {
     "data": {
      "text/plain": [
       "50.2"
      ]
     },
     "execution_count": 82,
     "metadata": {},
     "output_type": "execute_result"
    }
   ],
   "source": [
    "\n",
    "benefitss= ds[ds['benefits']==ds['wellness_program']]\n",
    "round(len(benefitss)/len(ds)*100,2)"
   ]
  },
  {
   "cell_type": "code",
   "execution_count": 107,
   "metadata": {},
   "outputs": [
    {
     "data": {
      "text/plain": [
       "498"
      ]
     },
     "execution_count": 107,
     "metadata": {},
     "output_type": "execute_result"
    }
   ],
   "source": [
    "\n",
    "\n",
    "#How many cases are in treatment and have benefits???\n",
    "\n",
    "\n",
    "benetreat= ds[ds['benefits']==ds['treatment']]\n",
    "len(benetreat)\n"
   ]
  },
  {
   "cell_type": "code",
   "execution_count": 108,
   "metadata": {},
   "outputs": [
    {
     "data": {
      "text/plain": [
       "78.18"
      ]
     },
     "execution_count": 108,
     "metadata": {},
     "output_type": "execute_result"
    }
   ],
   "source": [
    "#Porcentage cases wich in tratment with benefits\n",
    "\n",
    "treat= ds[ds['treatment']=='Yes']\n",
    "len(treat)\n",
    "round(len(benetreat)/len(treat)*100,2)"
   ]
  },
  {
   "cell_type": "code",
   "execution_count": 115,
   "metadata": {},
   "outputs": [
    {
     "data": {
      "text/plain": [
       "95.78"
      ]
     },
     "execution_count": 115,
     "metadata": {},
     "output_type": "execute_result"
    }
   ],
   "source": [
    "#Porcentage if you have benefits how many are in tratement.\n",
    "\n",
    "bene= ds[ds['benefits']=='Yes']\n",
    "round(len(bene)/len(benetreat)*100,2)\n"
   ]
  },
  {
   "cell_type": "code",
   "execution_count": null,
   "metadata": {},
   "outputs": [],
   "source": []
  },
  {
   "cell_type": "code",
   "execution_count": null,
   "metadata": {},
   "outputs": [],
   "source": [
    "#TREATMENT fenales VS males"
   ]
  },
  {
   "cell_type": "code",
   "execution_count": 15,
   "metadata": {},
   "outputs": [
    {
     "data": {
      "text/plain": [
       "236"
      ]
     },
     "execution_count": 15,
     "metadata": {},
     "output_type": "execute_result"
    }
   ],
   "source": [
    "#Number of fenales\n",
    "females=len(ds[ds['Gender']=='female'])+len(ds[ds['Gender']=='Female'])+len(ds[ds['Gender']=='f'])+len(ds[ds['Gender']=='F'])\n",
    "females"
   ]
  },
  {
   "cell_type": "code",
   "execution_count": 16,
   "metadata": {},
   "outputs": [
    {
     "data": {
      "text/plain": [
       "971"
      ]
     },
     "execution_count": 16,
     "metadata": {},
     "output_type": "execute_result"
    }
   ],
   "source": [
    "#Number of males\n",
    "males=len(ds[ds['Gender']=='male'])+len(ds[ds['Gender']=='Male'])+len(ds[ds['Gender']=='m'])+len(ds[ds['Gender']=='M'])\n",
    "males"
   ]
  },
  {
   "cell_type": "code",
   "execution_count": 17,
   "metadata": {},
   "outputs": [
    {
     "data": {
      "text/plain": [
       "50.5957108816521"
      ]
     },
     "execution_count": 17,
     "metadata": {},
     "output_type": "execute_result"
    }
   ],
   "source": [
    "#crazy people the half of this population is in treatment\n",
    "crazy=ds[ds['treatment']=='Yes']\n",
    "len(crazy)/len(ds)*100\n"
   ]
  },
  {
   "cell_type": "code",
   "execution_count": 18,
   "metadata": {},
   "outputs": [
    {
     "data": {
      "text/plain": [
       "165"
      ]
     },
     "execution_count": 18,
     "metadata": {},
     "output_type": "execute_result"
    }
   ],
   "source": [
    "#crazy females\n",
    "crazy_females=len(crazy[crazy['Gender']=='female'])+len(crazy[crazy['Gender']=='Female'])+len(crazy[crazy['Gender']=='f'])+len(crazy[crazy['Gender']=='F'])\n",
    "crazy_females"
   ]
  },
  {
   "cell_type": "code",
   "execution_count": 19,
   "metadata": {},
   "outputs": [
    {
     "data": {
      "text/plain": [
       "440"
      ]
     },
     "execution_count": 19,
     "metadata": {},
     "output_type": "execute_result"
    }
   ],
   "source": [
    "#crazy males\n",
    "crazy_males=len(crazy[crazy['Gender']=='male'])+len(crazy[crazy['Gender']=='Male'])+len(crazy[crazy['Gender']=='m'])+len(crazy[crazy['Gender']=='M'])\n",
    "crazy_males"
   ]
  },
  {
   "cell_type": "code",
   "execution_count": 25,
   "metadata": {},
   "outputs": [
    {
     "name": "stdout",
     "output_type": "stream",
     "text": [
      "69.92\n",
      "45.31\n"
     ]
    }
   ],
   "source": [
    "\n",
    "fem=crazy_females/females*100\n",
    "print(round(fem, 2))\n",
    "print(round(crazy_males/males*100,2))\n",
    "\n",
    "#Treatment per genre %\n",
    "#almost the 70% of the females are in treatment and the males in treatlent are 45% in this population"
   ]
  },
  {
   "cell_type": "code",
   "execution_count": null,
   "metadata": {},
   "outputs": [],
   "source": []
  },
  {
   "cell_type": "code",
   "execution_count": 47,
   "metadata": {},
   "outputs": [
    {
     "data": {
      "text/plain": [
       "11.73"
      ]
     },
     "execution_count": 47,
     "metadata": {},
     "output_type": "execute_result"
    }
   ],
   "source": [
    "#wich types companys have more benefits??\n",
    "\n",
    "\n",
    "#CONCLUSION == The biggest companys have more benefits\n",
    "\n",
    "#Companys '1-5'\n",
    "\n",
    "verysmallbenefits=len(benefits[benefits['no_employees']=='1-5'])\n",
    "verysmallCO=len(ds[ds['no_employees']=='1-5'])\n",
    "\n",
    "round(verysmallbenefits/verysmallCO*100,2)"
   ]
  },
  {
   "cell_type": "code",
   "execution_count": 48,
   "metadata": {},
   "outputs": [
    {
     "data": {
      "text/plain": [
       "20.69"
      ]
     },
     "execution_count": 48,
     "metadata": {},
     "output_type": "execute_result"
    }
   ],
   "source": [
    "#Companys '6-25'\n",
    "\n",
    "smallbenefits=len(benefits[benefits['no_employees']=='6-25'])\n",
    "smallCO=len(ds[ds['no_employees']=='6-25'])\n",
    "\n",
    "round(smallbenefits/smallCO*100,2)"
   ]
  },
  {
   "cell_type": "code",
   "execution_count": 49,
   "metadata": {},
   "outputs": [
    {
     "data": {
      "text/plain": [
       "62.35"
      ]
     },
     "execution_count": 49,
     "metadata": {},
     "output_type": "execute_result"
    }
   ],
   "source": [
    "#Companys '26-100'\n",
    "\n",
    "mediumbenefits=len(benefits[benefits['no_employees']=='26-100'])\n",
    "mediumCO=len(ds[ds['no_employees']=='1-5'])\n",
    "\n",
    "round(mediumbenefits/mediumCO*100,2)"
   ]
  },
  {
   "cell_type": "code",
   "execution_count": 51,
   "metadata": {},
   "outputs": [
    {
     "data": {
      "text/plain": [
       "64.89"
      ]
     },
     "execution_count": 51,
     "metadata": {},
     "output_type": "execute_result"
    }
   ],
   "source": [
    "#Companys 'More than 1000'\n",
    "\n",
    "bigbenefits=len(benefits[benefits['no_employees']=='More than 1000'])\n",
    "bigCO=len(ds[ds['no_employees']=='More than 1000'])\n",
    "\n",
    "round(bigbenefits/bigCO*100,2)"
   ]
  },
  {
   "cell_type": "code",
   "execution_count": null,
   "metadata": {},
   "outputs": [],
   "source": []
  }
 ],
 "metadata": {
  "kernelspec": {
   "display_name": "Python 3",
   "language": "python",
   "name": "python3"
  },
  "language_info": {
   "codemirror_mode": {
    "name": "ipython",
    "version": 3
   },
   "file_extension": ".py",
   "mimetype": "text/x-python",
   "name": "python",
   "nbconvert_exporter": "python",
   "pygments_lexer": "ipython3",
   "version": "3.7.3"
  }
 },
 "nbformat": 4,
 "nbformat_minor": 2
}
